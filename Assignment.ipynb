{
 "cells": [
  {
   "cell_type": "code",
   "execution_count": null,
   "id": "5d215686-786d-4ffe-86c6-3f16fa8c14ec",
   "metadata": {},
   "outputs": [],
   "source": [
    "length=int(input(\"Enter Length = \"))\n",
    "breadth=int(input(\"Enter Breafdth = \"))\n",
    "if length == breadth:\n",
    "    print(\"This is a square.\")\n",
    "else:\n",
    "    print(\"This is not a square."
   ]
  },
  {
   "cell_type": "code",
   "execution_count": null,
   "id": "58ab82ae-d2ad-4a2f-b715-639850547b20",
   "metadata": {},
   "outputs": [],
   "source": [
    "x=int(input(\"Enter x = \"))\n",
    "y=int(input(\"Enter y = \"))\n",
    "z=int(input(\"Enter z = \"))\n",
    "if x>y:\n",
    "    if x>z:\n",
    "        print(\"x is the greatest\")\n",
    "    else:\n",
    "        print(\"z is the greatest\")\n",
    "else:\n",
    "    if y>z:\n",
    "        print(\"y is the greatest\")\n",
    "    else:\n",
    "        print(\"z is the greatest\")"
   ]
  },
  {
   "cell_type": "code",
   "execution_count": null,
   "id": "4f5057d0-8f98-47bf-939a-e9371641dd90",
   "metadata": {},
   "outputs": [],
   "source": [
    "x=int(input(\"Enter Attendance = \"))\n",
    "if x>=75:\n",
    "    print(\"Allowed to sit for the exam\")\n",
    "else:\n",
    "    print(\"Not allowed to sit for the exam\")"
   ]
  },
  {
   "cell_type": "code",
   "execution_count": null,
   "id": "83bd5802-2032-41a6-917d-897b979965a3",
   "metadata": {},
   "outputs": [],
   "source": [
    "x=int(input(\"Enter Mark = \"))\n",
    "if x>=90 and x<=100:\n",
    "    print(\"A+\")\n",
    "elif x>=80:\n",
    "    print(\"A\")\n",
    "elif x>=60:\n",
    "    print(\"B\")\n",
    "elif x>=50:\n",
    "    print(\"C\")\n",
    "elif x>=45:\n",
    "    print(\"D\")\n",
    "else:\n",
    "    print(\"F\")"
   ]
  },
  {
   "cell_type": "code",
   "execution_count": null,
   "id": "0607cff3-8908-4e58-8985-9a801b454700",
   "metadata": {},
   "outputs": [],
   "source": [
    "k=8\n",
    "for i in range(1,5):\n",
    "    for j in range(1,k):\n",
    "        print(j,end=\" \")\n",
    "    print()\n",
    "    k=k-1"
   ]
  },
  {
   "cell_type": "code",
   "execution_count": null,
   "id": "adc6a40a-cf35-4dab-a651-01fa3d3dc5d0",
   "metadata": {},
   "outputs": [],
   "source": [
    "k=7\n",
    "i=4\n",
    "while i>0:\n",
    "    j=1;\n",
    "    while j<=k:\n",
    "        print(j,end=\" \")\n",
    "        j=j+1\n",
    "    print()\n",
    "    i=i-1\n",
    "    k=k-1"
   ]
  },
  {
   "cell_type": "code",
   "execution_count": null,
   "id": "4001f1c8-87cf-4214-9b73-9e6345a997f7",
   "metadata": {},
   "outputs": [],
   "source": [
    "for i in range(-100,-9):\n",
    "    print(i,end=\" \")"
   ]
  },
  {
   "cell_type": "code",
   "execution_count": null,
   "id": "b9f471ed-0e47-4c4a-bd8a-11efc61cdf88",
   "metadata": {},
   "outputs": [],
   "source": [
    "sum=0\n",
    "for i in range(10,1001):\n",
    "    f=0\n",
    "    for j in range(2,int(i/2+1)):\n",
    "        if i%j==0:\n",
    "            f=1\n",
    "            break\n",
    "    if f==0:\n",
    "        sum=sum+i\n",
    "print(sum)"
   ]
  },
  {
   "cell_type": "code",
   "execution_count": null,
   "id": "3d2a2192-b09e-4586-baf8-7ede6b743c3c",
   "metadata": {},
   "outputs": [],
   "source": [
    "n=int(input(\"Enter number = \"))\n",
    "f=1\n",
    "for i in range(1,n+1):\n",
    "    f=f*i\n",
    "print(f)"
   ]
  },
  {
   "cell_type": "code",
   "execution_count": null,
   "id": "5228d498-fa7a-411e-80ca-f5cfb0b26770",
   "metadata": {},
   "outputs": [],
   "source": [
    "n=int(input(\"Enter number = \"))\n",
    "r=0\n",
    "while n!=0:\n",
    "    x=n%10\n",
    "    r=r*10+x\n",
    "    n=int(n/10)\n",
    "print(r)"
   ]
  },
  {
   "cell_type": "code",
   "execution_count": null,
   "id": "1b83b5f8-7854-4071-96d8-af5095223104",
   "metadata": {},
   "outputs": [],
   "source": [
    "for i in range(1,4):\n",
    "    print(\"#\",end=\" \")\n",
    "print()\n",
    "for i in range(1,5):\n",
    "    print(\"#\",end=\" \")\n",
    "print()\n",
    "for i in range(1,4):\n",
    "    print(\"#\",end=\" \")\n",
    "print()\n",
    "for i in range(1,3):\n",
    "    print(\"#\",end=\" \")\n",
    "print()"
   ]
  },
  {
   "cell_type": "code",
   "execution_count": null,
   "id": "06a7c006-2b4a-4231-b0ca-67ca89d7b1ba",
   "metadata": {},
   "outputs": [],
   "source": [
    "x=0\n",
    "y=1\n",
    "print(x,y,end=\" \")\n",
    "for i in range (2,15):\n",
    "    k=x+y\n",
    "    x=y\n",
    "    y=k\n",
    "    print(k,end=\" \")\n",
    "    "
   ]
  },
  {
   "cell_type": "code",
   "execution_count": null,
   "id": "5d3f6e8e-b697-41a8-bde0-c719054b6539",
   "metadata": {},
   "outputs": [],
   "source": [
    "Li = [1,3,5, [2,3], True]\n",
    "Li[3][0]=3\n",
    "Li[4]=False\n",
    "Li"
   ]
  },
  {
   "cell_type": "code",
   "execution_count": null,
   "id": "333e1c32-dca6-40c4-9068-d4d248f07854",
   "metadata": {},
   "outputs": [],
   "source": [
    "S1 = {1,4,6,8}\n",
    "S2 = {True,1,2,10}\n",
    "S1.intersection_update(S2)\n",
    "S1"
   ]
  },
  {
   "cell_type": "code",
   "execution_count": null,
   "id": "739cd8ac-1634-4378-bda3-657089de2b17",
   "metadata": {},
   "outputs": [],
   "source": [
    "li=[]\n",
    "for i in range(1,7):\n",
    "    n=int(input())\n",
    "    li.append(n)\n",
    "print(li)\n",
    "s=set(li)\n",
    "print(s)\n",
    "max(s)"
   ]
  },
  {
   "cell_type": "code",
   "execution_count": null,
   "id": "e1f4c1b3-920a-4b9b-9ab7-094a3036ce7a",
   "metadata": {},
   "outputs": [],
   "source": [
    "Dict = { \"name\": \"Shakil\", \"age\":27, \"city\": \"Berlin\", \"country\": \"Germany\" }\n",
    "Dict.pop(\"country\")\n",
    "Dict.update({\"region\":\"Germany\"})\n",
    "Dict"
   ]
  },
  {
   "cell_type": "code",
   "execution_count": null,
   "id": "04a41944-6af3-4c7f-a90c-d7d3f435b26d",
   "metadata": {},
   "outputs": [],
   "source": [
    "import pandas as pd\n",
    "num=[10,100,300]\n",
    "dict={\"num\":[10,100,300]}\n",
    "df=pd.DataFrame(dict)\n",
    "df.head()"
   ]
  },
  {
   "cell_type": "code",
   "execution_count": null,
   "id": "b797047c-5302-4f6e-9927-96124b49c18a",
   "metadata": {},
   "outputs": [],
   "source": [
    "Dict = { \"name\": \"Shakil\", \"age\":27, \"city\": \"Berlin\", \"country\": \"Germany\" }\n",
    "Dict.update({\"age\":28})\n",
    "Dict\n"
   ]
  }
 ],
 "metadata": {
  "kernelspec": {
   "display_name": "Python 3 (ipykernel)",
   "language": "python",
   "name": "python3"
  },
  "language_info": {
   "codemirror_mode": {
    "name": "ipython",
    "version": 3
   },
   "file_extension": ".py",
   "mimetype": "text/x-python",
   "name": "python",
   "nbconvert_exporter": "python",
   "pygments_lexer": "ipython3",
   "version": "3.11.4"
  }
 },
 "nbformat": 4,
 "nbformat_minor": 5
}
